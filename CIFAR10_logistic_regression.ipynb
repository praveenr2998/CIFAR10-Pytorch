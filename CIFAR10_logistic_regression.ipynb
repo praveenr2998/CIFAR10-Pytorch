{
 "cells": [
  {
   "cell_type": "markdown",
   "metadata": {},
   "source": [
    "# CIFAR-10 USING LOGISTIC REGRESSION"
   ]
  },
  {
   "cell_type": "code",
   "execution_count": 1,
   "metadata": {},
   "outputs": [],
   "source": [
    "import torch\n",
    "import torchvision\n",
    "import torch.nn as nn\n",
    "from torchvision.datasets import CIFAR10\n",
    "import torch.nn.functional as F \n",
    "\n",
    "import matplotlib.pyplot as plt"
   ]
  },
  {
   "cell_type": "code",
   "execution_count": 2,
   "metadata": {},
   "outputs": [
    {
     "name": "stdout",
     "output_type": "stream",
     "text": [
      "Files already downloaded and verified\n"
     ]
    }
   ],
   "source": [
    "dataset = CIFAR10(root='C:/Users/prave/Desktop/Projects/Data', download=True)"
   ]
  },
  {
   "cell_type": "code",
   "execution_count": 3,
   "metadata": {},
   "outputs": [
    {
     "data": {
      "text/plain": [
       "50000"
      ]
     },
     "execution_count": 3,
     "metadata": {},
     "output_type": "execute_result"
    }
   ],
   "source": [
    "len(dataset)"
   ]
  },
  {
   "cell_type": "code",
   "execution_count": 4,
   "metadata": {},
   "outputs": [],
   "source": [
    "test_data = CIFAR10('C:/Users/prave/Desktop/Projects/Data', train=False)"
   ]
  },
  {
   "cell_type": "code",
   "execution_count": 5,
   "metadata": {},
   "outputs": [
    {
     "data": {
      "text/plain": [
       "10000"
      ]
     },
     "execution_count": 5,
     "metadata": {},
     "output_type": "execute_result"
    }
   ],
   "source": [
    "len(test_data)"
   ]
  },
  {
   "cell_type": "code",
   "execution_count": 6,
   "metadata": {},
   "outputs": [],
   "source": [
    "classes = ('plane', 'car', 'bird', 'cat',\n",
    "           'deer', 'dog', 'frog', 'horse', 'ship', 'truck')"
   ]
  },
  {
   "cell_type": "code",
   "execution_count": 7,
   "metadata": {},
   "outputs": [
    {
     "name": "stdout",
     "output_type": "stream",
     "text": [
      "Label:  frog\n"
     ]
    },
    {
     "data": {
      "image/png": "[encoded data removed]",
      "text/plain": [
       "<Figure size 432x288 with 1 Axes>"
      ]
     },
     "metadata": {
      "needs_background": "light"
     },
     "output_type": "display_data"
    }
   ],
   "source": [
    "image, label = dataset[0]\n",
    "plt.imshow(image)\n",
    "print(\"Label: \",classes[label])"
   ]
  },
  {
   "cell_type": "code",
   "execution_count": 8,
   "metadata": {},
   "outputs": [
    {
     "name": "stdout",
     "output_type": "stream",
     "text": [
      "Label:  ship\n"
     ]
    },
    {
     "data": {
      "image/png": "[encoded data removed]",
      "text/plain": [
       "<Figure size 432x288 with 1 Axes>"
      ]
     },
     "metadata": {
      "needs_background": "light"
     },
     "output_type": "display_data"
    }
   ],
   "source": [
    "image, label = dataset[100]\n",
    "plt.imshow(image)\n",
    "print(\"Label: \",classes[label])"
   ]
  },
  {
   "cell_type": "code",
   "execution_count": 9,
   "metadata": {},
   "outputs": [],
   "source": [
    "# These images need to be converted into tensors for further processing\n",
    "from torchvision.transforms import transforms"
   ]
  },
  {
   "cell_type": "code",
   "execution_count": 10,
   "metadata": {},
   "outputs": [],
   "source": [
    "dataset = CIFAR10('C:/Users/prave/Desktop/Projects/Data', train=True, transform=transforms.ToTensor())"
   ]
  },
  {
   "cell_type": "code",
   "execution_count": 11,
   "metadata": {},
   "outputs": [
    {
     "name": "stdout",
     "output_type": "stream",
     "text": [
      "torch.Size([3, 32, 32])\n",
      "frog\n"
     ]
    }
   ],
   "source": [
    "img_tensor, label=dataset[0]\n",
    "print(img_tensor.shape) \n",
    "print(classes[label])\n"
   ]
  },
  {
   "cell_type": "markdown",
   "metadata": {},
   "source": [
    "# SPLITTING BETWEEN TRAIN AND VALIDATION SETS"
   ]
  },
  {
   "cell_type": "code",
   "execution_count": 12,
   "metadata": {},
   "outputs": [],
   "source": [
    "from torch.utils.data import random_split\n",
    "\n",
    "train_ds, val_ds = random_split(dataset, [40000,10000])"
   ]
  },
  {
   "cell_type": "code",
   "execution_count": 13,
   "metadata": {},
   "outputs": [
    {
     "data": {
      "text/plain": [
       "(40000, 10000)"
      ]
     },
     "execution_count": 13,
     "metadata": {},
     "output_type": "execute_result"
    }
   ],
   "source": [
    "len(train_ds), len(val_ds)"
   ]
  },
  {
   "cell_type": "code",
   "execution_count": 14,
   "metadata": {},
   "outputs": [],
   "source": [
    "# To train data in batches\n",
    "from torch.utils.data import DataLoader\n",
    "\n",
    "batch_size = 128\n",
    "train_loader = DataLoader(train_ds, batch_size, shuffle=True)\n",
    "val_loader = DataLoader(val_ds, batch_size)"
   ]
  },
  {
   "cell_type": "code",
   "execution_count": 15,
   "metadata": {},
   "outputs": [],
   "source": [
    "def accuracy(outputs, labels):\n",
    "    _, preds = torch.max(outputs, dim=1)\n",
    "    return torch.tensor(torch.sum(preds == labels).item() / len(preds))"
   ]
  },
  {
   "cell_type": "markdown",
   "metadata": {},
   "source": [
    "# TRAINING THE MODEL"
   ]
  },
  {
   "cell_type": "code",
   "execution_count": 16,
   "metadata": {},
   "outputs": [],
   "source": [
    "input_size = 3*32*32\n",
    "num_classes = 10"
   ]
  },
  {
   "cell_type": "code",
   "execution_count": 17,
   "metadata": {},
   "outputs": [],
   "source": [
    "class CifarModel(nn.Module):\n",
    "    def __init__(self):\n",
    "        super().__init__()\n",
    "        self.linear = nn.Linear(input_size, num_classes)\n",
    "        \n",
    "    def forward(self, xb):\n",
    "        xb = xb.reshape(-1, input_size)\n",
    "        out = self.linear(xb)                     # Here self(images) passes the images to forward function...this is a method of calling a fuction within class without the use of object facilitated by pytorch..\n",
    "        return out\n",
    "    \n",
    "    def training_step(self, batch):\n",
    "        images, labels = batch \n",
    "        out = self(images)                  # Generate predictions\n",
    "        loss = F.cross_entropy(out, labels) # Calculate loss\n",
    "        return loss\n",
    "    \n",
    "    def validation_step(self, batch):\n",
    "        images, labels = batch \n",
    "        out = self(images)                    # Generate predictions\n",
    "        loss = F.cross_entropy(out, labels)   # Calculate loss\n",
    "        acc = accuracy(out, labels)           # Calculate accuracy\n",
    "        return {'val_loss': loss, 'val_acc': acc}\n",
    "        \n",
    "    def validation_epoch_end(self, outputs):\n",
    "        batch_losses = [x['val_loss'] for x in outputs]\n",
    "        epoch_loss = torch.stack(batch_losses).mean()   # Combine losses\n",
    "        batch_accs = [x['val_acc'] for x in outputs]\n",
    "        epoch_acc = torch.stack(batch_accs).mean()      # Combine accuracies\n",
    "        return {'val_loss': epoch_loss.item(), 'val_acc': epoch_acc.item()}\n",
    "    \n",
    "    def epoch_end(self, epoch, result):\n",
    "        print(\"Epoch [{}], val_loss: {:.4f}, val_acc: {:.4f}\".format(epoch, result['val_loss'], result['val_acc']))\n",
    "    \n",
    "model = CifarModel()"
   ]
  },
  {
   "cell_type": "code",
   "execution_count": 18,
   "metadata": {},
   "outputs": [],
   "source": [
    "def evaluate_model(model, val_loader):\n",
    "    outputs = [model.validation_step(batch) for batch in val_loader]\n",
    "    return model.validation_epoch_end(outputs)\n",
    "\n",
    "\n",
    "def fit(epochs, lr, model, train_loader, val_loader, opt_func=torch.optim.SGD):\n",
    "    history = []\n",
    "    optimizer = opt_func(model.parameters(), lr)\n",
    "    for epoch in range(epochs):\n",
    "        # Training Phase \n",
    "        for batch in train_loader:\n",
    "            loss = model.training_step(batch)\n",
    "            loss.backward()\n",
    "            optimizer.step()\n",
    "            optimizer.zero_grad()\n",
    "        # Validation phase\n",
    "        result = evaluate_model(model, val_loader)\n",
    "        model.epoch_end(epoch, result)\n",
    "        history.append(result)\n",
    "    return history"
   ]
  },
  {
   "cell_type": "code",
   "execution_count": 19,
   "metadata": {},
   "outputs": [
    {
     "data": {
      "text/plain": [
       "{'val_loss': 2.3471570014953613, 'val_acc': 0.13014240562915802}"
      ]
     },
     "execution_count": 19,
     "metadata": {},
     "output_type": "execute_result"
    }
   ],
   "source": [
    "# Testing model before updation of weights and biases\n",
    "result0 = evaluate_model(model, val_loader)\n",
    "result0"
   ]
  },
  {
   "cell_type": "code",
   "execution_count": 20,
   "metadata": {},
   "outputs": [
    {
     "data": {
      "application/javascript": [
       "if (window.IPython && IPython.notebook.kernel) IPython.notebook.kernel.execute('jovian.utils.jupyter.get_notebook_name_saved = lambda: \"' + IPython.notebook.notebook_name + '\"')"
      ],
      "text/plain": [
       "<IPython.core.display.Javascript object>"
      ]
     },
     "metadata": {},
     "output_type": "display_data"
    },
    {
     "data": {
      "application/javascript": [
       "window.require && require([\"base/js/namespace\"],function(Jupyter){Jupyter.notebook.save_checkpoint()})"
      ],
      "text/plain": [
       "<IPython.core.display.Javascript object>"
      ]
     },
     "metadata": {},
     "output_type": "display_data"
    },
    {
     "name": "stdout",
     "output_type": "stream",
     "text": [
      "[jovian] Attempting to save notebook..\n",
      "[jovian] Updating notebook \"praveenr2998/cifar10-logistic-regression\" on https://jovian.ml/\n",
      "[jovian] Uploading notebook..\n",
      "[jovian] Capturing environment..\n",
      "[jovian] Committed successfully! https://jovian.ml/praveenr2998/cifar10-logistic-regression\n"
     ]
    },
    {
     "data": {
      "text/plain": [
       "'https://jovian.ml/praveenr2998/cifar10-logistic-regression'"
      ]
     },
     "execution_count": 20,
     "metadata": {},
     "output_type": "execute_result"
    }
   ],
   "source": [
    "import jovian\n",
    "jovian.commit()"
   ]
  },
  {
   "cell_type": "code",
   "execution_count": 21,
   "metadata": {},
   "outputs": [
    {
     "name": "stdout",
     "output_type": "stream",
     "text": [
      "Epoch [0], val_loss: 2.1393, val_acc: 0.2488\n",
      "Epoch [1], val_loss: 2.0641, val_acc: 0.2753\n",
      "Epoch [2], val_loss: 2.0193, val_acc: 0.2986\n",
      "Epoch [3], val_loss: 1.9888, val_acc: 0.3044\n",
      "Epoch [4], val_loss: 1.9638, val_acc: 0.3210\n"
     ]
    }
   ],
   "source": [
    "history1 = fit(5, 0.001, model, train_loader, val_loader)"
   ]
  },
  {
   "cell_type": "code",
   "execution_count": 22,
   "metadata": {},
   "outputs": [
    {
     "name": "stdout",
     "output_type": "stream",
     "text": [
      "Epoch [0], val_loss: 1.9602, val_acc: 0.3274\n",
      "Epoch [1], val_loss: 1.9582, val_acc: 0.3282\n",
      "Epoch [2], val_loss: 1.9562, val_acc: 0.3286\n",
      "Epoch [3], val_loss: 1.9544, val_acc: 0.3305\n",
      "Epoch [4], val_loss: 1.9523, val_acc: 0.3283\n"
     ]
    }
   ],
   "source": [
    "history2 = fit(5, 0.0001, model, train_loader, val_loader)"
   ]
  },
  {
   "cell_type": "code",
   "execution_count": 24,
   "metadata": {},
   "outputs": [
    {
     "name": "stdout",
     "output_type": "stream",
     "text": [
      "Epoch [0], val_loss: 1.8875, val_acc: 0.3507\n",
      "Epoch [1], val_loss: 1.8788, val_acc: 0.3499\n",
      "Epoch [2], val_loss: 1.8719, val_acc: 0.3550\n",
      "Epoch [3], val_loss: 1.8673, val_acc: 0.3545\n",
      "Epoch [4], val_loss: 1.8608, val_acc: 0.3553\n",
      "Epoch [5], val_loss: 1.8557, val_acc: 0.3580\n",
      "Epoch [6], val_loss: 1.8516, val_acc: 0.3588\n",
      "Epoch [7], val_loss: 1.8469, val_acc: 0.3613\n",
      "Epoch [8], val_loss: 1.8426, val_acc: 0.3665\n",
      "Epoch [9], val_loss: 1.8396, val_acc: 0.3668\n",
      "Epoch [10], val_loss: 1.8366, val_acc: 0.3653\n",
      "Epoch [11], val_loss: 1.8322, val_acc: 0.3679\n",
      "Epoch [12], val_loss: 1.8299, val_acc: 0.3645\n",
      "Epoch [13], val_loss: 1.8262, val_acc: 0.3722\n",
      "Epoch [14], val_loss: 1.8250, val_acc: 0.3698\n",
      "Epoch [15], val_loss: 1.8212, val_acc: 0.3695\n",
      "Epoch [16], val_loss: 1.8204, val_acc: 0.3705\n",
      "Epoch [17], val_loss: 1.8167, val_acc: 0.3735\n",
      "Epoch [18], val_loss: 1.8144, val_acc: 0.3721\n",
      "Epoch [19], val_loss: 1.8120, val_acc: 0.3767\n"
     ]
    }
   ],
   "source": [
    "history2 = fit(20, 0.001, model, train_loader, val_loader)"
   ]
  },
  {
   "cell_type": "code",
   "execution_count": 26,
   "metadata": {},
   "outputs": [
    {
     "name": "stdout",
     "output_type": "stream",
     "text": [
      "Epoch [0], val_loss: 1.8358, val_acc: 0.3475\n",
      "Epoch [1], val_loss: 1.8211, val_acc: 0.3538\n",
      "Epoch [2], val_loss: 1.8090, val_acc: 0.3526\n",
      "Epoch [3], val_loss: 1.7889, val_acc: 0.3716\n",
      "Epoch [4], val_loss: 1.7825, val_acc: 0.3772\n"
     ]
    }
   ],
   "source": [
    "history3 = fit(5, 0.01, model, train_loader, val_loader)"
   ]
  },
  {
   "cell_type": "code",
   "execution_count": 27,
   "metadata": {},
   "outputs": [
    {
     "name": "stdout",
     "output_type": "stream",
     "text": [
      "Epoch [0], val_loss: 1.7845, val_acc: 0.3783\n",
      "Epoch [1], val_loss: 1.8049, val_acc: 0.3604\n",
      "Epoch [2], val_loss: 1.7949, val_acc: 0.3651\n",
      "Epoch [3], val_loss: 1.8324, val_acc: 0.3520\n",
      "Epoch [4], val_loss: 1.7499, val_acc: 0.3923\n"
     ]
    }
   ],
   "source": [
    "history4 = fit(5, 0.01, model, train_loader, val_loader)"
   ]
  },
  {
   "cell_type": "code",
   "execution_count": 30,
   "metadata": {},
   "outputs": [
    {
     "name": "stdout",
     "output_type": "stream",
     "text": [
      "Epoch [0], val_loss: 1.9939, val_acc: 0.3963\n",
      "Epoch [1], val_loss: 1.9211, val_acc: 0.3976\n",
      "Epoch [2], val_loss: 1.8776, val_acc: 0.4000\n",
      "Epoch [3], val_loss: 1.8412, val_acc: 0.3970\n",
      "Epoch [4], val_loss: 1.8425, val_acc: 0.3953\n",
      "Epoch [5], val_loss: 1.8152, val_acc: 0.4008\n",
      "Epoch [6], val_loss: 1.8100, val_acc: 0.3982\n",
      "Epoch [7], val_loss: 1.8086, val_acc: 0.3905\n",
      "Epoch [8], val_loss: 1.7880, val_acc: 0.3942\n",
      "Epoch [9], val_loss: 1.7863, val_acc: 0.3926\n",
      "Epoch [10], val_loss: 1.7687, val_acc: 0.3966\n",
      "Epoch [11], val_loss: 1.7827, val_acc: 0.4011\n",
      "Epoch [12], val_loss: 1.7715, val_acc: 0.3947\n",
      "Epoch [13], val_loss: 1.7494, val_acc: 0.4073\n",
      "Epoch [14], val_loss: 1.7592, val_acc: 0.3984\n",
      "Epoch [15], val_loss: 1.7471, val_acc: 0.4045\n",
      "Epoch [16], val_loss: 1.7471, val_acc: 0.4004\n",
      "Epoch [17], val_loss: 1.7434, val_acc: 0.4042\n",
      "Epoch [18], val_loss: 1.7550, val_acc: 0.3878\n",
      "Epoch [19], val_loss: 1.7811, val_acc: 0.3835\n"
     ]
    }
   ],
   "source": [
    "history5 = fit(20, 0.01, model, train_loader, val_loader)"
   ]
  },
  {
   "cell_type": "code",
   "execution_count": 31,
   "metadata": {},
   "outputs": [
    {
     "data": {
      "application/javascript": [
       "window.require && require([\"base/js/namespace\"],function(Jupyter){Jupyter.notebook.save_checkpoint()})"
      ],
      "text/plain": [
       "<IPython.core.display.Javascript object>"
      ]
     },
     "metadata": {},
     "output_type": "display_data"
    },
    {
     "name": "stdout",
     "output_type": "stream",
     "text": [
      "[jovian] Attempting to save notebook..\n",
      "[jovian] Updating notebook \"praveenr2998/cifar10-logistic-regression\" on https://jovian.ml/\n",
      "[jovian] Uploading notebook..\n",
      "[jovian] Capturing environment..\n",
      "[jovian] Committed successfully! https://jovian.ml/praveenr2998/cifar10-logistic-regression\n"
     ]
    },
    {
     "data": {
      "text/plain": [
       "'https://jovian.ml/praveenr2998/cifar10-logistic-regression'"
      ]
     },
     "execution_count": 31,
     "metadata": {},
     "output_type": "execute_result"
    }
   ],
   "source": [
    "jovian.commit()"
   ]
  },
  {
   "cell_type": "code",
   "execution_count": null,
   "metadata": {},
   "outputs": [],
   "source": []
  }
 ],
 "metadata": {
  "kernelspec": {
   "display_name": "Latest",
   "language": "python",
   "name": "latest"
  },
  "language_info": {
   "codemirror_mode": {
    "name": "ipython",
    "version": 3
   },
   "file_extension": ".py",
   "mimetype": "text/x-python",
   "name": "python",
   "nbconvert_exporter": "python",
   "pygments_lexer": "ipython3",
   "version": "3.6.10"
  }
 },
 "nbformat": 4,
 "nbformat_minor": 4
}
